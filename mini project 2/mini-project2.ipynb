{
 "cells": [
  {
   "attachments": {},
   "cell_type": "markdown",
   "metadata": {},
   "source": [
    "#### Import packages"
   ]
  },
  {
   "cell_type": "code",
   "execution_count": 1,
   "metadata": {},
   "outputs": [],
   "source": [
    "import numpy as np\n",
    "import timeit\n",
    "import pandas as pd\n",
    "import matplotlib.pyplot as plt\n",
    "import seaborn as sns"
   ]
  },
  {
   "cell_type": "code",
   "execution_count": 2,
   "metadata": {},
   "outputs": [],
   "source": [
    "import mandulakenyer as mk # contains mandelbrot implementations\n",
    "import utils # contains utilities"
   ]
  },
  {
   "attachments": {},
   "cell_type": "markdown",
   "metadata": {},
   "source": [
    "##### Setting parameters"
   ]
  },
  {
   "cell_type": "code",
   "execution_count": 3,
   "metadata": {},
   "outputs": [],
   "source": [
    "RE_MIN = -2\n",
    "RE_MAX = 1\n",
    "IM_MIN = -1.5\n",
    "IM_MAX = 1.5\n",
    "\n",
    "RE_SCALE = 1000\n",
    "IM_SCALE = 1000\n",
    "\n",
    "T = 2 # threshold\n",
    "I = 100 # iteration\n",
    "\n",
    "# previously, on NSC Handin\n",
    "# for parallel computing\n",
    "BEST_PROC_NUM = 5\n",
    "BEST_CHUNKS_NUM = 20"
   ]
  },
  {
   "cell_type": "code",
   "execution_count": 4,
   "metadata": {},
   "outputs": [],
   "source": [
    "re = [RE_MIN, RE_MAX, RE_SCALE]\n",
    "im = [IM_MIN, IM_MAX, IM_SCALE]\n",
    "\n",
    "# list of data types, None was used last time\n",
    "dt_lst = [ None, 'float16', 'float32', 'float64'] \n",
    "\n",
    "df = pd.DataFrame()\n",
    "iter_num = 5 # for timeit\n",
    "\n",
    "comp_lst ={\n",
    "    None : \"complex\", # last time this was used\n",
    "    \"float16\" : \"complex64\", # complex is two float32\n",
    "    \"float32\" : \"complex64\", # complex is two float32\n",
    "    \"float64\" : \"complex128\" # complex is two float64\n",
    "}"
   ]
  },
  {
   "attachments": {},
   "cell_type": "markdown",
   "metadata": {},
   "source": [
    "#### Measuring time the different implementations with different data types "
   ]
  },
  {
   "cell_type": "code",
   "execution_count": 5,
   "metadata": {},
   "outputs": [],
   "source": [
    "for dt in dt_lst:\n",
    "    t = timeit.Timer(lambda: mk.naive(re, im, dt, I, T)).timeit(iter_num)\n",
    "    new_row = pd.DataFrame(utils.add_new_row('naive', dt, t))\n",
    "    df = pd.concat([df, new_row], ignore_index=True)"
   ]
  },
  {
   "cell_type": "code",
   "execution_count": 6,
   "metadata": {},
   "outputs": [
    {
     "name": "stderr",
     "output_type": "stream",
     "text": [
      "c:\\Users\\Kata\\Documents\\AAU\\CE8\\NSC\\code\\ce8-nsc\\mini project 2\\mandulakenyer.py:44: RuntimeWarning: overflow encountered in square\n",
      "  z = z**2 + c\n",
      "c:\\Users\\Kata\\Documents\\AAU\\CE8\\NSC\\code\\ce8-nsc\\mini project 2\\mandulakenyer.py:44: RuntimeWarning: invalid value encountered in square\n",
      "  z = z**2 + c\n",
      "c:\\Users\\Kata\\Documents\\AAU\\CE8\\NSC\\code\\ce8-nsc\\mini project 2\\mandulakenyer.py:45: RuntimeWarning: overflow encountered in absolute\n",
      "  M[thresh <= abs(z)] = i\n"
     ]
    }
   ],
   "source": [
    "for dt in dt_lst:\n",
    "    comp_dt = comp_lst[dt]\n",
    "    t = timeit.Timer(lambda: mk.vectorized(re, im, dt, comp_dt, I, T)).timeit(iter_num)\n",
    "    new_row = pd.DataFrame(utils.add_new_row('vectorized', dt, t))\n",
    "    df = pd.concat([df, new_row], ignore_index=True)"
   ]
  },
  {
   "cell_type": "code",
   "execution_count": 7,
   "metadata": {},
   "outputs": [],
   "source": [
    "for dt in dt_lst:\n",
    "    t = timeit.Timer(\n",
    "            lambda: mk.parallelize(mk.parallel_mb, BEST_PROC_NUM, BEST_CHUNKS_NUM, re, im, dt, I, T)\n",
    "        ).timeit(iter_num)\n",
    "    \n",
    "    \n",
    "    new_row = pd.DataFrame(utils.add_new_row('parallel', dt, t))\n",
    "    df = pd.concat([df, new_row], ignore_index=True)"
   ]
  },
  {
   "cell_type": "code",
   "execution_count": 8,
   "metadata": {},
   "outputs": [
    {
     "data": {
      "image/png": "[encoded data removed]",
      "text/plain": [
       "<Figure size 640x480 with 1 Axes>"
      ]
     },
     "metadata": {},
     "output_type": "display_data"
    }
   ],
   "source": [
    "sns.set()\n",
    "sns.barplot(x='method', y='time', hue='dtype', data=df)\n",
    "plt.show()"
   ]
  }
 ],
 "metadata": {
  "kernelspec": {
   "display_name": "nsc",
   "language": "python",
   "name": "python3"
  },
  "language_info": {
   "codemirror_mode": {
    "name": "ipython",
    "version": 3
   },
   "file_extension": ".py",
   "mimetype": "text/x-python",
   "name": "python",
   "nbconvert_exporter": "python",
   "pygments_lexer": "ipython3",
   "version": "3.10.9"
  },
  "orig_nbformat": 4
 },
 "nbformat": 4,
 "nbformat_minor": 2
}
