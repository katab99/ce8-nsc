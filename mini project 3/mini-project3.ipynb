{
 "cells": [
  {
   "attachments": {},
   "cell_type": "markdown",
   "metadata": {},
   "source": [
    "#### Import modules and packages"
   ]
  },
  {
   "cell_type": "code",
   "execution_count": 1,
   "metadata": {},
   "outputs": [],
   "source": [
    "import mandulakenyer as mk # Mandelbrot implementations from previous tasks\n",
    "import mandelbrot_test as mt # unittest file\n",
    "import mandelbrot_cl as mcl # OpenCL implementation of Mandelbrot"
   ]
  },
  {
   "attachments": {},
   "cell_type": "markdown",
   "metadata": {},
   "source": [
    "#### Unittest"
   ]
  },
  {
   "cell_type": "code",
   "execution_count": 21,
   "metadata": {},
   "outputs": [
    {
     "name": "stderr",
     "output_type": "stream",
     "text": [
      ".c:\\Users\\Kata\\Documents\\uni\\CE8\\NSC\\code\\ce8-nsc\\mini project 3\\mandulakenyer.py:82: RuntimeWarning: overflow encountered in square\n",
      "  z = z**2 + c\n",
      "c:\\Users\\Kata\\Documents\\uni\\CE8\\NSC\\code\\ce8-nsc\\mini project 3\\mandulakenyer.py:82: RuntimeWarning: invalid value encountered in square\n",
      "  z = z**2 + c\n",
      "c:\\Users\\Kata\\Documents\\uni\\CE8\\NSC\\code\\ce8-nsc\\mini project 3\\mandulakenyer.py:83: RuntimeWarning: overflow encountered in absolute\n",
      "  M[thresh <= abs(z)] = i\n",
      "F\n",
      "======================================================================\n",
      "FAIL: test_func2 (__main__.TestMandelbrot)\n",
      "----------------------------------------------------------------------\n",
      "Traceback (most recent call last):\n",
      "  File \"c:\\Users\\Kata\\Documents\\uni\\CE8\\NSC\\code\\ce8-nsc\\mini project 3\\mandelbrot_test.py\", line 28, in test_func2\n",
      "    self.assertTrue(np.all(np.fliplr(M) == M))\n",
      "AssertionError: False is not true\n",
      "\n",
      "----------------------------------------------------------------------\n",
      "Ran 2 tests in 5.421s\n",
      "\n",
      "FAILED (failures=1)\n"
     ]
    }
   ],
   "source": [
    "! python mandelbrot_test.py"
   ]
  },
  {
   "attachments": {},
   "cell_type": "markdown",
   "metadata": {},
   "source": [
    "#### CL implementation"
   ]
  },
  {
   "cell_type": "code",
   "execution_count": null,
   "metadata": {},
   "outputs": [],
   "source": []
  }
 ],
 "metadata": {
  "kernelspec": {
   "display_name": "nsc",
   "language": "python",
   "name": "python3"
  },
  "language_info": {
   "codemirror_mode": {
    "name": "ipython",
    "version": 3
   },
   "file_extension": ".py",
   "mimetype": "text/x-python",
   "name": "python",
   "nbconvert_exporter": "python",
   "pygments_lexer": "ipython3",
   "version": "3.10.9"
  },
  "orig_nbformat": 4
 },
 "nbformat": 4,
 "nbformat_minor": 2
}
