{
 "cells": [
  {
   "attachments": {},
   "cell_type": "markdown",
   "metadata": {},
   "source": [
    "# Mandelbrot - Mini Project 3"
   ]
  },
  {
   "attachments": {},
   "cell_type": "markdown",
   "metadata": {},
   "source": [
    "`mandulakenyer.py` contains implementations from previous tasks with Docstrings.\n",
    "`mandelbrot_test.py` is the unitest file. \\\n",
    "`mandelbrot_cl.py` contains the OpenCL implementation, `kernel.cl` is the kernel for OpenCL."
   ]
  },
  {
   "attachments": {},
   "cell_type": "markdown",
   "metadata": {},
   "source": [
    "### Import modules and packages"
   ]
  },
  {
   "cell_type": "code",
   "execution_count": 1,
   "metadata": {},
   "outputs": [],
   "source": [
    "import matplotlib.pyplot as plt\n",
    "import numpy as np\n",
    "import pyopencl as cl\n",
    "import time\n",
    "import pandas as pd\n",
    "\n",
    "import mandulakenyer as mk # Mandelbrot implementations from previous tasks\n",
    "import mandelbrot_cl as mcl # OpenCL implementation of Mandelbrot"
   ]
  },
  {
   "attachments": {},
   "cell_type": "markdown",
   "metadata": {},
   "source": [
    "### Parameters"
   ]
  },
  {
   "cell_type": "code",
   "execution_count": 2,
   "metadata": {},
   "outputs": [],
   "source": [
    "RE_MIN = -2\n",
    "RE_MAX = 1\n",
    "RE_SCALE = 1000\n",
    "\n",
    "IM_MIN = -1.5\n",
    "IM_MAX = 1.5\n",
    "IM_SCALE = 1000\n",
    "\n",
    "T = 2 # threshold\n",
    "I = 100 # iteration\n",
    "\n",
    "re = np.linspace(RE_MIN, RE_MAX, RE_SCALE, dtype=np.float32)\n",
    "im = np.linspace(IM_MIN, IM_MAX, IM_SCALE, dtype=np.float32)"
   ]
  },
  {
   "cell_type": "code",
   "execution_count": 3,
   "metadata": {},
   "outputs": [],
   "source": [
    "size_params = [RE_MIN, RE_MAX, IM_MIN, IM_MAX]"
   ]
  },
  {
   "cell_type": "code",
   "execution_count": 4,
   "metadata": {},
   "outputs": [],
   "source": [
    "# for visulalizing the results of algorithms\n",
    "def plotting(res, size_params):\n",
    "    plt.figure(figsize=(8,8))\n",
    "    # plt.title(title)\n",
    "    plt.imshow(res, cmap='inferno', extent=[size_params[0], size_params[1], size_params[2], size_params[3]])"
   ]
  },
  {
   "attachments": {},
   "cell_type": "markdown",
   "metadata": {},
   "source": [
    "### Unittest"
   ]
  },
  {
   "cell_type": "code",
   "execution_count": 10,
   "metadata": {},
   "outputs": [
    {
     "name": "stderr",
     "output_type": "stream",
     "text": [
      "...c:\\Users\\Kata\\Documents\\uni\\CE8\\NSC\\code\\ce8-nsc\\mini project 3\\mandulakenyer.py:94: RuntimeWarning: overflow encountered in square\n",
      "  z = z**2 + c\n",
      "c:\\Users\\Kata\\Documents\\uni\\CE8\\NSC\\code\\ce8-nsc\\mini project 3\\mandulakenyer.py:94: RuntimeWarning: invalid value encountered in square\n",
      "  z = z**2 + c\n",
      "c:\\Users\\Kata\\Documents\\uni\\CE8\\NSC\\code\\ce8-nsc\\mini project 3\\mandulakenyer.py:95: RuntimeWarning: overflow encountered in absolute\n",
      "  M[thresh <= abs(z)] = i\n",
      "...\n",
      "----------------------------------------------------------------------\n",
      "Ran 6 tests in 12.936s\n",
      "\n",
      "OK\n"
     ]
    }
   ],
   "source": [
    "! python mandelbrot_test.py"
   ]
  },
  {
   "attachments": {},
   "cell_type": "markdown",
   "metadata": {},
   "source": [
    "### CL implementation"
   ]
  },
  {
   "attachments": {},
   "cell_type": "markdown",
   "metadata": {},
   "source": [
    "Test CL implementation"
   ]
  },
  {
   "cell_type": "code",
   "execution_count": null,
   "metadata": {},
   "outputs": [],
   "source": [
    "M = mcl.mandelbrot_cl(re, im, I, T)"
   ]
  },
  {
   "cell_type": "code",
   "execution_count": null,
   "metadata": {},
   "outputs": [],
   "source": [
    "plotting(M, size_params)"
   ]
  },
  {
   "attachments": {},
   "cell_type": "markdown",
   "metadata": {},
   "source": [
    "működik a gecci"
   ]
  },
  {
   "attachments": {},
   "cell_type": "markdown",
   "metadata": {},
   "source": [
    "#### Different grid sizes"
   ]
  },
  {
   "cell_type": "code",
   "execution_count": null,
   "metadata": {},
   "outputs": [],
   "source": [
    "GRID_SIZE = [100, 500, 1000, 2000, 5000, 10000]\n",
    "grid_time = {}\n",
    "\n",
    "for grid in GRID_SIZE:\n",
    "    re = np.linspace(RE_MIN, RE_MAX, grid, dtype=np.float32)\n",
    "    im = np.linspace(IM_MIN, IM_MAX, grid, dtype=np.float32)\n",
    "\n",
    "    t0 = time.time()\n",
    "    M = mcl.mandelbrot_cl(re, im, I, T)\n",
    "    t1 = time.time() - t0\n",
    "    #grid_time.append(t1)\n",
    "\n",
    "    grid_time[grid] = t1\n",
    "\n",
    "df_grid = pd.DataFrame(grid_time.items(), columns=['grid_size', 'time'])\n",
    "# visualize TODO"
   ]
  },
  {
   "attachments": {},
   "cell_type": "markdown",
   "metadata": {},
   "source": [
    "#### CPU vs. GPU"
   ]
  },
  {
   "cell_type": "code",
   "execution_count": null,
   "metadata": {},
   "outputs": [],
   "source": [
    "pu = {}\n",
    "\n",
    "for platform in cl.get_platforms():\n",
    "\n",
    "    for device in platform.get_devices():\n",
    "        t0 = time.time()\n",
    "        M = mcl.mandelbrot_cl(re, im, I, T, device)\n",
    "        t1 = time.time() - t0\n",
    "        \n",
    "        pu[device.name] = t1\n",
    "\n",
    "df_pu = pd.DataFrame(pu.items(), columns=['device_name', 'time'])\n",
    "# visualize TODO"
   ]
  }
 ],
 "metadata": {
  "kernelspec": {
   "display_name": "nsc",
   "language": "python",
   "name": "python3"
  },
  "language_info": {
   "codemirror_mode": {
    "name": "ipython",
    "version": 3
   },
   "file_extension": ".py",
   "mimetype": "text/x-python",
   "name": "python",
   "nbconvert_exporter": "python",
   "pygments_lexer": "ipython3",
   "version": "3.10.9"
  },
  "orig_nbformat": 4
 },
 "nbformat": 4,
 "nbformat_minor": 2
}
